{
  "nbformat": 4,
  "nbformat_minor": 0,
  "metadata": {
    "colab": {
      "provenance": [],
      "authorship_tag": "ABX9TyNPWwf/uwt6I/w7QqA5qadb",
      "include_colab_link": true
    },
    "kernelspec": {
      "name": "python3",
      "display_name": "Python 3"
    },
    "language_info": {
      "name": "python"
    }
  },
  "cells": [
    {
      "cell_type": "markdown",
      "metadata": {
        "id": "view-in-github",
        "colab_type": "text"
      },
      "source": [
        "<a href=\"https://colab.research.google.com/github/kenziedryden/projects/blob/main/Homework_1.ipynb\" target=\"_parent\"><img src=\"https://colab.research.google.com/assets/colab-badge.svg\" alt=\"Open In Colab\"/></a>"
      ]
    },
    {
      "cell_type": "code",
      "execution_count": null,
      "metadata": {
        "colab": {
          "base_uri": "https://localhost:8080/"
        },
        "id": "-5hljRnjOtwC",
        "outputId": "70feb2d1-6db0-4dbb-8ae4-f17cfb228ac6"
      },
      "outputs": [
        {
          "output_type": "stream",
          "name": "stdout",
          "text": [
            "Collecting gurobipy\n",
            "  Downloading gurobipy-11.0.3-cp310-cp310-manylinux2014_x86_64.manylinux_2_17_x86_64.whl.metadata (15 kB)\n",
            "Downloading gurobipy-11.0.3-cp310-cp310-manylinux2014_x86_64.manylinux_2_17_x86_64.whl (13.4 MB)\n",
            "\u001b[2K   \u001b[90m━━━━━━━━━━━━━━━━━━━━━━━━━━━━━━━━━━━━━━━━\u001b[0m \u001b[32m13.4/13.4 MB\u001b[0m \u001b[31m21.7 MB/s\u001b[0m eta \u001b[36m0:00:00\u001b[0m\n",
            "\u001b[?25hInstalling collected packages: gurobipy\n",
            "Successfully installed gurobipy-11.0.3\n"
          ]
        }
      ],
      "source": [
        "!pip install gurobipy\n",
        "import gurobipy as gp\n",
        "from gurobipy import GRB"
      ]
    },
    {
      "cell_type": "markdown",
      "source": [
        "m = gp.Model('Homework 1')\n",
        "x1 = m.addVar\n",
        "x2 = m.addVar\n",
        "obj = 3x1 - x2\n",
        "m.setObjective(obj, GRB.MINIMIZE)\n",
        "m.addConstr(2x1 + x2 >= 4, 'Constr1')\n",
        "m.addConstr(2x1 + 3x2 <= 10, 'Constr2')\n",
        "m.addConstr(x2 <= 2, 'Constr3')\n",
        "m.optimize()"
      ],
      "metadata": {
        "id": "uUddLx6cO5Hm"
      }
    },
    {
      "cell_type": "markdown",
      "source": [
        "## Problem 1 ##"
      ],
      "metadata": {
        "id": "VxP1fdnFWAqv"
      }
    },
    {
      "cell_type": "code",
      "source": [
        "m = gp.Model('Problem_1')"
      ],
      "metadata": {
        "id": "pHfdFxyNP-Cn"
      },
      "execution_count": null,
      "outputs": []
    },
    {
      "cell_type": "code",
      "source": [
        "x1 = m.addVar(name = \"x1\")\n",
        "x2 = m.addVar(name = \"x2\")"
      ],
      "metadata": {
        "id": "sfeas45rQCBx"
      },
      "execution_count": null,
      "outputs": []
    },
    {
      "cell_type": "code",
      "source": [
        "obj = 3*x1 - x2\n",
        "m.setObjective(obj, GRB.MINIMIZE)"
      ],
      "metadata": {
        "id": "LfJwW9VQQwZY"
      },
      "execution_count": null,
      "outputs": []
    },
    {
      "cell_type": "code",
      "source": [
        "m.addConstr(2*x1 + x2 >= 4)\n",
        "m.addConstr(2*x1 + 3*x2 <= 10)\n",
        "m.addConstr(x2 <= 2)"
      ],
      "metadata": {
        "colab": {
          "base_uri": "https://localhost:8080/"
        },
        "id": "tn0NUBvZRMgn",
        "outputId": "0af201e6-ba90-4c61-a404-8be4e6d5ca0f"
      },
      "execution_count": null,
      "outputs": [
        {
          "output_type": "execute_result",
          "data": {
            "text/plain": [
              "<gurobi.Constr *Awaiting Model Update*>"
            ]
          },
          "metadata": {},
          "execution_count": 19
        }
      ]
    },
    {
      "cell_type": "code",
      "source": [
        "m.optimize()"
      ],
      "metadata": {
        "colab": {
          "base_uri": "https://localhost:8080/"
        },
        "id": "gTklPdSrRY9-",
        "outputId": "622b27bb-1205-404f-bf74-54cc26390c8a"
      },
      "execution_count": null,
      "outputs": [
        {
          "output_type": "stream",
          "name": "stdout",
          "text": [
            "Gurobi Optimizer version 11.0.3 build v11.0.3rc0 (linux64 - \"Ubuntu 22.04.3 LTS\")\n",
            "\n",
            "CPU model: Intel(R) Xeon(R) CPU @ 2.20GHz, instruction set [SSE2|AVX|AVX2]\n",
            "Thread count: 1 physical cores, 2 logical processors, using up to 2 threads\n",
            "\n",
            "Optimize a model with 3 rows, 2 columns and 5 nonzeros\n",
            "Model fingerprint: 0xe53fedd5\n",
            "Coefficient statistics:\n",
            "  Matrix range     [1e+00, 3e+00]\n",
            "  Objective range  [1e+00, 3e+00]\n",
            "  Bounds range     [0e+00, 0e+00]\n",
            "  RHS range        [2e+00, 1e+01]\n",
            "Presolve removed 3 rows and 2 columns\n",
            "Presolve time: 0.02s\n",
            "Presolve: All rows and columns removed\n",
            "Iteration    Objective       Primal Inf.    Dual Inf.      Time\n",
            "       0    1.0000000e+00   0.000000e+00   0.000000e+00      0s\n",
            "\n",
            "Solved in 0 iterations and 0.03 seconds (0.00 work units)\n",
            "Optimal objective  1.000000000e+00\n"
          ]
        }
      ]
    },
    {
      "cell_type": "markdown",
      "source": [
        "# Problem 2"
      ],
      "metadata": {
        "id": "EU_YBhx2MNFB"
      }
    },
    {
      "cell_type": "code",
      "source": [
        "m = gp.Model(\"Advertising Problem 2\")"
      ],
      "metadata": {
        "id": "Lp5oDGwHRM_v"
      },
      "execution_count": null,
      "outputs": []
    },
    {
      "cell_type": "code",
      "source": [
        "x1 = m.addVar(name = 'x1')\n",
        "x2 = m.addVar(name = 'x2')"
      ],
      "metadata": {
        "id": "-Crlw3o0WLPu"
      },
      "execution_count": null,
      "outputs": []
    },
    {
      "cell_type": "code",
      "source": [
        "obj = 35000*x1 + 20000*x2\n",
        "m.setObjective(obj, GRB.MAXIMIZE)"
      ],
      "metadata": {
        "id": "G4WSsCH4WgBI"
      },
      "execution_count": null,
      "outputs": []
    },
    {
      "cell_type": "code",
      "source": [
        "m.addConstr(3000*x1 + 1250*x2 <= 100000)\n",
        "m.addConstr(x1 >= 5)\n",
        "m.addConstr(x1 <= 25)\n",
        "m.addConstr(x2 >= 10)\n"
      ],
      "metadata": {
        "colab": {
          "base_uri": "https://localhost:8080/"
        },
        "id": "VckLI-uXWzEF",
        "outputId": "c8a8e02c-d468-4106-a261-f2b41792893a"
      },
      "execution_count": null,
      "outputs": [
        {
          "output_type": "execute_result",
          "data": {
            "text/plain": [
              "<gurobi.Constr *Awaiting Model Update*>"
            ]
          },
          "metadata": {},
          "execution_count": 37
        }
      ]
    },
    {
      "cell_type": "code",
      "source": [
        "m.optimize()"
      ],
      "metadata": {
        "colab": {
          "base_uri": "https://localhost:8080/"
        },
        "id": "j_67bsH9YNeT",
        "outputId": "153fac56-e8b5-4fb7-bcef-2d9211c85382"
      },
      "execution_count": null,
      "outputs": [
        {
          "output_type": "stream",
          "name": "stdout",
          "text": [
            "Gurobi Optimizer version 11.0.3 build v11.0.3rc0 (linux64 - \"Ubuntu 22.04.3 LTS\")\n",
            "\n",
            "CPU model: Intel(R) Xeon(R) CPU @ 2.20GHz, instruction set [SSE2|AVX|AVX2]\n",
            "Thread count: 1 physical cores, 2 logical processors, using up to 2 threads\n",
            "\n",
            "Optimize a model with 4 rows, 2 columns and 5 nonzeros\n",
            "Model fingerprint: 0x676390b4\n",
            "Coefficient statistics:\n",
            "  Matrix range     [1e+00, 3e+03]\n",
            "  Objective range  [2e+04, 4e+04]\n",
            "  Bounds range     [0e+00, 0e+00]\n",
            "  RHS range        [5e+00, 1e+05]\n",
            "Presolve removed 4 rows and 2 columns\n",
            "Presolve time: 0.01s\n",
            "Presolve: All rows and columns removed\n",
            "Iteration    Objective       Primal Inf.    Dual Inf.      Time\n",
            "       0    1.5350000e+06   0.000000e+00   0.000000e+00      0s\n",
            "\n",
            "Solved in 0 iterations and 0.02 seconds (0.00 work units)\n",
            "Optimal objective  1.535000000e+06\n"
          ]
        }
      ]
    },
    {
      "cell_type": "code",
      "source": [
        "print(f'Optimal x1: {x1.X}')\n",
        "print(f'Optimal x2: {x2.X}')\n",
        "print(f'Optimal objective value: {m.objVal}')"
      ],
      "metadata": {
        "colab": {
          "base_uri": "https://localhost:8080/"
        },
        "id": "M8QMeF6yK8uB",
        "outputId": "d2b48cb2-3536-4e0d-9853-3cf838025534"
      },
      "execution_count": null,
      "outputs": [
        {
          "output_type": "stream",
          "name": "stdout",
          "text": [
            "Optimal x1: 5.0\n",
            "Optimal x2: 68.0\n",
            "Optimal objective value: 1535000.0\n"
          ]
        }
      ]
    },
    {
      "cell_type": "markdown",
      "source": [
        "## Problem 3"
      ],
      "metadata": {
        "id": "FDvuy9sFjpYn"
      }
    },
    {
      "cell_type": "markdown",
      "source": [
        "min z = 4p1m1 + 7p1m2 + 12p2m1 + 15p2m2\n",
        "\n",
        "p1 = 20\n",
        "\n",
        "p2 - 30\n",
        "\n",
        "m1 time: 10p1m1 + 20p2m1 <= 450\n",
        "\n",
        "m2 time: 15p1m1 + 25p2m1 <=450\n",
        "\n",
        "m2 >= m1\n",
        "\n",
        "p1m1, p1m2, p2m1, p2m2 > 0"
      ],
      "metadata": {
        "id": "PpvJlQTf-Np5"
      }
    },
    {
      "cell_type": "code",
      "source": [
        "!pip install gurobipy\n",
        "import gurobipy as gp"
      ],
      "metadata": {
        "colab": {
          "base_uri": "https://localhost:8080/"
        },
        "id": "LcNhx8Kt_ndB",
        "outputId": "182f41a3-c4d9-4904-d2fe-02c8d0e0b6ba"
      },
      "execution_count": null,
      "outputs": [
        {
          "output_type": "stream",
          "name": "stdout",
          "text": [
            "Collecting gurobipy\n",
            "  Downloading gurobipy-11.0.3-cp310-cp310-manylinux2014_x86_64.manylinux_2_17_x86_64.whl.metadata (15 kB)\n",
            "Downloading gurobipy-11.0.3-cp310-cp310-manylinux2014_x86_64.manylinux_2_17_x86_64.whl (13.4 MB)\n",
            "\u001b[2K   \u001b[90m━━━━━━━━━━━━━━━━━━━━━━━━━━━━━━━━━━━━━━━━\u001b[0m \u001b[32m13.4/13.4 MB\u001b[0m \u001b[31m85.8 MB/s\u001b[0m eta \u001b[36m0:00:00\u001b[0m\n",
            "\u001b[?25hInstalling collected packages: gurobipy\n",
            "Successfully installed gurobipy-11.0.3\n"
          ]
        }
      ]
    },
    {
      "cell_type": "code",
      "source": [
        "m = gp.Model('Product Planning')"
      ],
      "metadata": {
        "colab": {
          "base_uri": "https://localhost:8080/"
        },
        "id": "bHnoyWD0mkJ1",
        "outputId": "7142aa9d-f94b-47dc-9924-d8cc329d7796"
      },
      "execution_count": null,
      "outputs": [
        {
          "output_type": "stream",
          "name": "stdout",
          "text": [
            "Restricted license - for non-production use only - expires 2025-11-24\n"
          ]
        }
      ]
    },
    {
      "cell_type": "code",
      "source": [
        "p1m1 = m.addVar(name='Product 1 Machine 1')\n",
        "p2m1 = m.addVar(name= 'Product 2 Machine 1')\n",
        "p1m2 = m.addVar(name= 'Product 1 Machine 2')\n",
        "p2m2 = m.addVar(name= 'Product 2 Machine 2')"
      ],
      "metadata": {
        "id": "raYzKIlK_PDI"
      },
      "execution_count": null,
      "outputs": []
    },
    {
      "cell_type": "code",
      "source": [
        "obj = 4*p1m1 + 7*p1m2 + 10*p2m1 + 15*p2m2\n",
        "m.setObjective(obj, GRB.MINIMIZE)"
      ],
      "metadata": {
        "id": "GTy-ds8L_1SD"
      },
      "execution_count": null,
      "outputs": []
    },
    {
      "cell_type": "code",
      "source": [
        "m.addConstr(p1m1 + p1m2 == 20, 'Product 1 Quantity')\n",
        "m.addConstr(p2m1 + p2m2 == 30, 'Product 2 Quantity')\n",
        "m.addConstr(15*p1m1 + 25*p2m1 <= 450)\n",
        "m.addConstr(10*p1m2 + 20*p2m2 <= 450)\n",
        "m.addConstr(10*p1m2 + 20*p2m2 >= 15*p1m1 + 25*p2m1)"
      ],
      "metadata": {
        "colab": {
          "base_uri": "https://localhost:8080/"
        },
        "id": "5vAE0Lv1ASKT",
        "outputId": "e6446296-8e67-49c6-ee93-fddb9889b079"
      },
      "execution_count": null,
      "outputs": [
        {
          "output_type": "execute_result",
          "data": {
            "text/plain": [
              "<gurobi.Constr *Awaiting Model Update*>"
            ]
          },
          "metadata": {},
          "execution_count": 16
        }
      ]
    },
    {
      "cell_type": "code",
      "source": [
        "m.optimize()"
      ],
      "metadata": {
        "colab": {
          "base_uri": "https://localhost:8080/"
        },
        "id": "PjoTQMxHBB_m",
        "outputId": "53428d39-c975-4058-c5ac-bbfff3322c99"
      },
      "execution_count": null,
      "outputs": [
        {
          "output_type": "stream",
          "name": "stdout",
          "text": [
            "Gurobi Optimizer version 11.0.3 build v11.0.3rc0 (linux64 - \"Ubuntu 22.04.3 LTS\")\n",
            "\n",
            "CPU model: Intel(R) Xeon(R) CPU @ 2.20GHz, instruction set [SSE2|AVX|AVX2]\n",
            "Thread count: 1 physical cores, 2 logical processors, using up to 2 threads\n",
            "\n",
            "Optimize a model with 10 rows, 8 columns and 24 nonzeros\n",
            "Coefficient statistics:\n",
            "  Matrix range     [1e+00, 2e+01]\n",
            "  Objective range  [4e+00, 2e+01]\n",
            "  Bounds range     [0e+00, 0e+00]\n",
            "  RHS range        [2e+01, 4e+02]\n",
            "LP warm-start: use basis\n",
            "\n",
            "Iteration    Objective       Primal Inf.    Dual Inf.      Time\n",
            "       0    5.0000000e+02   0.000000e+00   0.000000e+00      0s\n",
            "\n",
            "Solved in 0 iterations and 0.01 seconds (0.00 work units)\n",
            "Optimal objective  5.000000000e+02\n"
          ]
        }
      ]
    },
    {
      "cell_type": "code",
      "source": [
        "for v in m.getVars(): #for each variable v inside m\n",
        "    print(v.VarName, v.x) #print the name of the variable and its optimal value\n",
        "\n",
        "print('Obj: ', obj.getValue())"
      ],
      "metadata": {
        "colab": {
          "base_uri": "https://localhost:8080/"
        },
        "id": "Ynahf7BoB5IW",
        "outputId": "55823a43-39f5-4db2-d03c-3abe828f2e06"
      },
      "execution_count": null,
      "outputs": [
        {
          "output_type": "stream",
          "name": "stdout",
          "text": [
            "Product 1 0.0\n",
            "Product 2 0.0\n",
            "Machine 1 0.0\n",
            "Machine 2 0.0\n",
            "Product 1 Machine 1 5.0\n",
            "Product 2 Machine 1 15.0\n",
            "Product 1 Machine 2 15.0\n",
            "Product 2 Machine 2 15.0\n",
            "Obj:  500.0\n"
          ]
        }
      ]
    },
    {
      "cell_type": "markdown",
      "source": [
        "## Problem 4"
      ],
      "metadata": {
        "id": "V9GLf6rsjsF0"
      }
    },
    {
      "cell_type": "markdown",
      "source": [
        "MAX:"
      ],
      "metadata": {
        "id": "HeYanCgnju5P"
      }
    },
    {
      "cell_type": "code",
      "source": [
        "!pip install gurobipy\n",
        "import gurobipy as gp\n",
        "from gurobipy import GRB"
      ],
      "metadata": {
        "colab": {
          "base_uri": "https://localhost:8080/"
        },
        "id": "UoLY6Dsqgrjq",
        "outputId": "e61adedd-77ab-434e-caa2-b707ac06130e"
      },
      "execution_count": null,
      "outputs": [
        {
          "output_type": "stream",
          "name": "stdout",
          "text": [
            "Requirement already satisfied: gurobipy in /usr/local/lib/python3.10/dist-packages (11.0.3)\n"
          ]
        }
      ]
    },
    {
      "cell_type": "code",
      "source": [
        "support = range(1,8) #range(m,n) >> list of numbers m, m+1, m+2, m+3\n",
        "for i in support:\n",
        "  print(i)"
      ],
      "metadata": {
        "colab": {
          "base_uri": "https://localhost:8080/"
        },
        "id": "umEziDXjgzUS",
        "outputId": "580f8fd4-4353-4ba5-a604-165bceecbee4"
      },
      "execution_count": null,
      "outputs": [
        {
          "output_type": "stream",
          "name": "stdout",
          "text": [
            "1\n",
            "2\n",
            "3\n",
            "4\n",
            "5\n",
            "6\n",
            "7\n"
          ]
        }
      ]
    },
    {
      "cell_type": "code",
      "source": [
        "m = gp.Model()\n",
        "x = m.addVars(support, name='probabilities')\n",
        "m.setObjective(x[1]+x[2] , GRB.MAXIMIZE) #maximize for upper tail"
      ],
      "metadata": {
        "id": "fqzsRVwag0L3"
      },
      "execution_count": null,
      "outputs": []
    },
    {
      "cell_type": "code",
      "source": [
        "m.addConstr(gp.quicksum(i * x[i] for i in support) == 4, name='expectation')\n",
        "m.addConstr(gp.quicksum(i ** 2 * x[i] for i in support) - 4 ** 2 == 5, name='variance') # variance\n",
        "m.addConstr(x.sum() == 1, name='sum prob') # sum of porbabilities = 1\n",
        "m.addConstrs(x[i] >= 0 for i in support)\n",
        "m.optimize()"
      ],
      "metadata": {
        "colab": {
          "base_uri": "https://localhost:8080/"
        },
        "id": "AHmvHPAThYVS",
        "outputId": "2755a1e7-64e1-4e12-f498-ccb6daa957f5"
      },
      "execution_count": null,
      "outputs": [
        {
          "output_type": "stream",
          "name": "stdout",
          "text": [
            "Gurobi Optimizer version 11.0.3 build v11.0.3rc0 (linux64 - \"Ubuntu 22.04.3 LTS\")\n",
            "\n",
            "CPU model: Intel(R) Xeon(R) CPU @ 2.20GHz, instruction set [SSE2|AVX|AVX2]\n",
            "Thread count: 1 physical cores, 2 logical processors, using up to 2 threads\n",
            "\n",
            "Optimize a model with 10 rows, 7 columns and 28 nonzeros\n",
            "Model fingerprint: 0xca0612cd\n",
            "Coefficient statistics:\n",
            "  Matrix range     [1e+00, 5e+01]\n",
            "  Objective range  [1e+00, 1e+00]\n",
            "  Bounds range     [0e+00, 0e+00]\n",
            "  RHS range        [1e+00, 2e+01]\n",
            "Presolve removed 7 rows and 0 columns\n",
            "Presolve time: 0.01s\n",
            "Presolved: 3 rows, 7 columns, 21 nonzeros\n",
            "\n",
            "Iteration    Objective       Primal Inf.    Dual Inf.      Time\n",
            "       0    4.0000000e+00   7.060500e+00   0.000000e+00      0s\n",
            "       3    5.5000000e-01   0.000000e+00   0.000000e+00      0s\n",
            "\n",
            "Solved in 3 iterations and 0.02 seconds (0.00 work units)\n",
            "Optimal objective  5.500000000e-01\n"
          ]
        }
      ]
    },
    {
      "cell_type": "code",
      "source": [
        "for v in m.getVars():\n",
        "    print(v.varName, v.x)\n",
        "    print('Maximized value:',  m.objVal)"
      ],
      "metadata": {
        "colab": {
          "base_uri": "https://localhost:8080/"
        },
        "id": "rlttMN7kh5zH",
        "outputId": "21529ec4-72dc-4fac-a0a5-2a113312a820"
      },
      "execution_count": null,
      "outputs": [
        {
          "output_type": "stream",
          "name": "stdout",
          "text": [
            "probabilities[1] 0.0\n",
            "Maximized value: 0.5499999999999999\n",
            "probabilities[2] 0.5499999999999999\n",
            "Maximized value: 0.5499999999999999\n",
            "probabilities[3] 0.0\n",
            "Maximized value: 0.5499999999999999\n",
            "probabilities[4] 0.0\n",
            "Maximized value: 0.5499999999999999\n",
            "probabilities[5] 0.0\n",
            "Maximized value: 0.5499999999999999\n",
            "probabilities[6] 0.24999999999999992\n",
            "Maximized value: 0.5499999999999999\n",
            "probabilities[7] 0.2000000000000001\n",
            "Maximized value: 0.5499999999999999\n"
          ]
        }
      ]
    },
    {
      "cell_type": "markdown",
      "source": [
        "MIN:"
      ],
      "metadata": {
        "id": "3zM7ZqO5j8bb"
      }
    },
    {
      "cell_type": "code",
      "source": [
        "support = range(1,8) #range(m,n) >> list of numbers m, m+1, m+2, m+3\n",
        "for i in support:\n",
        "  print(i)"
      ],
      "metadata": {
        "colab": {
          "base_uri": "https://localhost:8080/"
        },
        "id": "wdXBdtQAj-iB",
        "outputId": "30beaf7a-e5e9-40b0-a0f9-1d746544a6fc"
      },
      "execution_count": null,
      "outputs": [
        {
          "output_type": "stream",
          "name": "stdout",
          "text": [
            "1\n",
            "2\n",
            "3\n",
            "4\n",
            "5\n",
            "6\n",
            "7\n"
          ]
        }
      ]
    },
    {
      "cell_type": "code",
      "source": [
        "m = gp.Model()\n",
        "x = m.addVars(support, name='probabilities')\n",
        "m.setObjective(x[1]+x[2] , GRB.MINIMIZE) # minimize for lower tail"
      ],
      "metadata": {
        "id": "Rqaubix3kCpl"
      },
      "execution_count": null,
      "outputs": []
    },
    {
      "cell_type": "code",
      "source": [
        "m.addConstr(gp.quicksum(i * x[i] for i in support) == 4, name='expectation')\n",
        "m.addConstr(gp.quicksum(i ** 2 * x[i] for i in support) - 4 ** 2 == 5, name='variance') # variance\n",
        "m.addConstr(x.sum() == 1, name='sum prob') # sum of porbabilities = 1\n",
        "m.addConstrs(x[i] >= 0 for i in support)\n",
        "m.optimize()"
      ],
      "metadata": {
        "colab": {
          "base_uri": "https://localhost:8080/"
        },
        "id": "wXXG2dcjkJ4H",
        "outputId": "f44a2022-99f3-4a57-ecf6-083ba107dedc"
      },
      "execution_count": null,
      "outputs": [
        {
          "output_type": "stream",
          "name": "stdout",
          "text": [
            "Gurobi Optimizer version 11.0.3 build v11.0.3rc0 (linux64 - \"Ubuntu 22.04.3 LTS\")\n",
            "\n",
            "CPU model: Intel(R) Xeon(R) CPU @ 2.20GHz, instruction set [SSE2|AVX|AVX2]\n",
            "Thread count: 1 physical cores, 2 logical processors, using up to 2 threads\n",
            "\n",
            "Optimize a model with 10 rows, 7 columns and 28 nonzeros\n",
            "Model fingerprint: 0x2f659630\n",
            "Coefficient statistics:\n",
            "  Matrix range     [1e+00, 5e+01]\n",
            "  Objective range  [1e+00, 1e+00]\n",
            "  Bounds range     [0e+00, 0e+00]\n",
            "  RHS range        [1e+00, 2e+01]\n",
            "Presolve removed 7 rows and 0 columns\n",
            "Presolve time: 0.01s\n",
            "Presolved: 3 rows, 7 columns, 21 nonzeros\n",
            "\n",
            "Iteration    Objective       Primal Inf.    Dual Inf.      Time\n",
            "       0    0.0000000e+00   1.227167e+00   0.000000e+00      0s\n",
            "       3    1.6666667e-01   0.000000e+00   0.000000e+00      0s\n",
            "\n",
            "Solved in 3 iterations and 0.02 seconds (0.00 work units)\n",
            "Optimal objective  1.666666667e-01\n"
          ]
        }
      ]
    },
    {
      "cell_type": "code",
      "source": [
        "for v in m.getVars():\n",
        "    print(v.varName, v.x)\n",
        "    print('Maximized value:',  m.objVal)"
      ],
      "metadata": {
        "colab": {
          "base_uri": "https://localhost:8080/"
        },
        "id": "nnnR1R6vkNg-",
        "outputId": "bd55139b-349b-470e-ccaf-cbfba5b1791e"
      },
      "execution_count": null,
      "outputs": [
        {
          "output_type": "stream",
          "name": "stdout",
          "text": [
            "probabilities[1] 0.16666666666666663\n",
            "Maximized value: 0.16666666666666663\n",
            "probabilities[2] 0.0\n",
            "Maximized value: 0.16666666666666663\n",
            "probabilities[3] 0.5\n",
            "Maximized value: 0.16666666666666663\n",
            "probabilities[4] 0.0\n",
            "Maximized value: 0.16666666666666663\n",
            "probabilities[5] 0.0\n",
            "Maximized value: 0.16666666666666663\n",
            "probabilities[6] 0.0\n",
            "Maximized value: 0.16666666666666663\n",
            "probabilities[7] 0.3333333333333333\n",
            "Maximized value: 0.16666666666666663\n"
          ]
        }
      ]
    }
  ]
}