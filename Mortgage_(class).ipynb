{
  "nbformat": 4,
  "nbformat_minor": 0,
  "metadata": {
    "colab": {
      "provenance": [],
      "authorship_tag": "ABX9TyPBxXQf+ggpuVO23ygHJ8gw",
      "include_colab_link": true
    },
    "kernelspec": {
      "name": "python3",
      "display_name": "Python 3"
    },
    "language_info": {
      "name": "python"
    }
  },
  "cells": [
    {
      "cell_type": "markdown",
      "metadata": {
        "id": "view-in-github",
        "colab_type": "text"
      },
      "source": [
        "<a href=\"https://colab.research.google.com/github/kenziedryden/projects/blob/main/Mortgage_(class).ipynb\" target=\"_parent\"><img src=\"https://colab.research.google.com/assets/colab-badge.svg\" alt=\"Open In Colab\"/></a>"
      ]
    },
    {
      "cell_type": "code",
      "execution_count": null,
      "metadata": {
        "colab": {
          "base_uri": "https://localhost:8080/"
        },
        "id": "nnP6uEqa7bzI",
        "outputId": "495531a9-c1f2-4340-c664-01102d304e7a"
      },
      "outputs": [
        {
          "output_type": "execute_result",
          "data": {
            "text/plain": [
              "6000.000004656286"
            ]
          },
          "metadata": {},
          "execution_count": 25
        }
      ],
      "source": [
        "class Mortgage:\n",
        "  def __init__(self, amount, maturity, interest):\n",
        "    self.amount = amount\n",
        "    self.maturity = maturity\n",
        "    self.interest = interest\n",
        "\n",
        "  def __str__(self):\n",
        "    return f\"Mortgage Info :\\n Initial Loan Amount: {self.amount} $\\n Maturity Term: {self.maturity} $\\n Interest Amount: {self.interest}\"\n",
        "\n",
        "  def get_interest(self):\n",
        "    return self.interest\n",
        "\n",
        "  def set_interest(self, newInterest):\n",
        "    self.interest = newInterest\n",
        "\n",
        "  def payment(self):\n",
        "    return self.amount * ((self.interest / 100)*(1 +(self.interest / 100))**(self.maturity * 12))/((1 +(self.interest / 100))**(self.maturity * 12) - 1)\n",
        "\n",
        "m = Mortgage(100000, 30, 6)\n",
        "\n",
        "m.payment()"
      ]
    },
    {
      "cell_type": "code",
      "source": [
        "class A:\n",
        "  def __init__(self,item):\n",
        "    self.item = item\n",
        "  def whoAmI(self):\n",
        "    print(\"Iam an instance of class A\")\n",
        "\n",
        "class B:\n",
        "  def __init__(self,item):\n",
        "    self.item = item\n",
        "  def whoAmI(self):\n",
        "    print(\"Iam an instance of class B\")\n",
        "\n",
        "a = A(2)\n",
        "b = B(3)\n"
      ],
      "metadata": {
        "id": "OY1W5rcM_RpP"
      },
      "execution_count": null,
      "outputs": []
    },
    {
      "cell_type": "code",
      "source": [
        "b.whoAmI()"
      ],
      "metadata": {
        "colab": {
          "base_uri": "https://localhost:8080/"
        },
        "id": "tznNQFCp_0Ja",
        "outputId": "7842c961-18ee-4fdc-eb7a-3406a21e5b08"
      },
      "execution_count": null,
      "outputs": [
        {
          "output_type": "stream",
          "name": "stdout",
          "text": [
            "Iam an instance of class B\n"
          ]
        }
      ]
    },
    {
      "cell_type": "code",
      "source": [
        "class Animal:\n",
        "  def __init__(self):\n",
        "    print(\"Animal created\")\n",
        "\n",
        "  def whoAmI(self):\n",
        "    print(\"I am an animal\")"
      ],
      "metadata": {
        "id": "jVw9XHi6Anrc"
      },
      "execution_count": null,
      "outputs": []
    },
    {
      "cell_type": "code",
      "source": [
        "class Bird(Animal):\n",
        "  def fly(self):\n",
        "   print(\"Birds can fly\")"
      ],
      "metadata": {
        "id": "IYT7B6icA32b"
      },
      "execution_count": null,
      "outputs": []
    },
    {
      "cell_type": "code",
      "source": [
        "b = Bird()\n",
        "b.whoAmI"
      ],
      "metadata": {
        "colab": {
          "base_uri": "https://localhost:8080/",
          "height": 122
        },
        "id": "iOYDgQKQBRIp",
        "outputId": "a30a8864-fb9e-4d80-e31b-47a07f9a7958"
      },
      "execution_count": null,
      "outputs": [
        {
          "output_type": "stream",
          "name": "stdout",
          "text": [
            "Animal created\n"
          ]
        },
        {
          "output_type": "execute_result",
          "data": {
            "text/plain": [
              "<bound method Animal.whoAmI of <__main__.Bird object at 0x79d8cb7e4e50>>"
            ],
            "text/html": [
              "<div style=\"max-width:800px; border: 1px solid var(--colab-border-color);\"><style>\n",
              "      pre.function-repr-contents {\n",
              "        overflow-x: auto;\n",
              "        padding: 8px 12px;\n",
              "        max-height: 500px;\n",
              "      }\n",
              "\n",
              "      pre.function-repr-contents.function-repr-contents-collapsed {\n",
              "        cursor: pointer;\n",
              "        max-height: 100px;\n",
              "      }\n",
              "    </style>\n",
              "    <pre style=\"white-space: initial; background:\n",
              "         var(--colab-secondary-surface-color); padding: 8px 12px;\n",
              "         border-bottom: 1px solid var(--colab-border-color);\"><b>Animal.whoAmI</b><br/>def whoAmI()</pre><pre class=\"function-repr-contents function-repr-contents-collapsed\" style=\"\"><a class=\"filepath\" style=\"display:none\" href=\"#\">/content/&lt;ipython-input-19-6e118b96c160&gt;</a>&lt;no docstring&gt;</pre></div>"
            ]
          },
          "metadata": {},
          "execution_count": 23
        }
      ]
    },
    {
      "cell_type": "code",
      "source": [
        "b.fly()"
      ],
      "metadata": {
        "colab": {
          "base_uri": "https://localhost:8080/"
        },
        "id": "Ay8lCleKBXv8",
        "outputId": "58ae8473-cbb9-4c0c-92b6-503f81db6f6b"
      },
      "execution_count": null,
      "outputs": [
        {
          "output_type": "stream",
          "name": "stdout",
          "text": [
            "Birds can fly\n"
          ]
        }
      ]
    }
  ]
}