{
  "nbformat": 4,
  "nbformat_minor": 0,
  "metadata": {
    "colab": {
      "provenance": [],
      "authorship_tag": "ABX9TyNxjVO8bRQ60iTQtHzjZaL7",
      "include_colab_link": true
    },
    "kernelspec": {
      "name": "python3",
      "display_name": "Python 3"
    },
    "language_info": {
      "name": "python"
    }
  },
  "cells": [
    {
      "cell_type": "markdown",
      "metadata": {
        "id": "view-in-github",
        "colab_type": "text"
      },
      "source": [
        "<a href=\"https://colab.research.google.com/github/kenziedryden/projects/blob/main/append_break_at_zero.ipynb\" target=\"_parent\"><img src=\"https://colab.research.google.com/assets/colab-badge.svg\" alt=\"Open In Colab\"/></a>"
      ]
    },
    {
      "cell_type": "code",
      "execution_count": 14,
      "metadata": {
        "colab": {
          "base_uri": "https://localhost:8080/"
        },
        "id": "MXbXteX1DE4J",
        "outputId": "554b102f-c116-48b3-cb11-b2aaf3725664"
      },
      "outputs": [
        {
          "name": "stdout",
          "output_type": "stream",
          "text": [
            "Enter a value: 1\n",
            "[1]\n",
            "Enter a value: 2\n",
            "[1, 2]\n",
            "Enter a value: 0\n"
          ]
        }
      ],
      "source": [
        "L = []\n",
        "\n",
        "while 3==3:\n",
        "    number = int(input('Enter a value: '))\n",
        "    if number == 0:\n",
        "      break\n",
        "    L.append(number)\n",
        "    print(L)"
      ]
    },
    {
      "cell_type": "code",
      "source": [
        "L = []\n",
        "\n",
        "number = int(input('Enter a value: '))\n",
        "\n",
        "while number != 0:\n",
        "    L.append(number)\n",
        "    number = int(input('Enter a value: '))\n"
      ],
      "metadata": {
        "colab": {
          "base_uri": "https://localhost:8080/"
        },
        "id": "2qWnAKDhDh0L",
        "outputId": "d1c5ced3-2663-449a-d8f7-acf1f48cfe73"
      },
      "execution_count": 20,
      "outputs": [
        {
          "name": "stdout",
          "output_type": "stream",
          "text": [
            "Enter a value: 1\n",
            "Enter a value: 2\n",
            "Enter a value: 3\n",
            "Enter a value: 4\n",
            "Enter a value: 0\n"
          ]
        }
      ]
    }
  ]
}