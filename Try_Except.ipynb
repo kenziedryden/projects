{
  "nbformat": 4,
  "nbformat_minor": 0,
  "metadata": {
    "colab": {
      "provenance": [],
      "authorship_tag": "ABX9TyMMHNSkFk8G3AHjb7f2vLrz",
      "include_colab_link": true
    },
    "kernelspec": {
      "name": "python3",
      "display_name": "Python 3"
    },
    "language_info": {
      "name": "python"
    }
  },
  "cells": [
    {
      "cell_type": "markdown",
      "metadata": {
        "id": "view-in-github",
        "colab_type": "text"
      },
      "source": [
        "<a href=\"https://colab.research.google.com/github/kenziedryden/projects/blob/main/Try_Except.ipynb\" target=\"_parent\"><img src=\"https://colab.research.google.com/assets/colab-badge.svg\" alt=\"Open In Colab\"/></a>"
      ]
    },
    {
      "cell_type": "code",
      "execution_count": 5,
      "metadata": {
        "colab": {
          "base_uri": "https://localhost:8080/"
        },
        "id": "fbrCJV5I2xNB",
        "outputId": "3147ef70-17b9-4fc1-92a4-1d5419566dbe"
      },
      "outputs": [
        {
          "output_type": "stream",
          "name": "stdout",
          "text": [
            "List has incorrect type values (numbers only please).\n"
          ]
        }
      ],
      "source": [
        "def functionAvg(alist):\n",
        "  try:\n",
        "   return sum(alist) / len(alist)\n",
        "  except TypeError:\n",
        "    print(\"List has incorrect type values (numbers only please).\")\n",
        "    return None\n",
        "  except ZeroDivisionError:\n",
        "    print(\"The list is empty.\")\n",
        "    return float('nan')\n",
        "  except:\n",
        "    print(\"Unknown error\")\n",
        "\n",
        "\n",
        "l = [1,2,'3',4,5]\n",
        "functionAvg(l)\n",
        "\n",
        "\n"
      ]
    }
  ]
}