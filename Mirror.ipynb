{
  "nbformat": 4,
  "nbformat_minor": 0,
  "metadata": {
    "colab": {
      "provenance": [],
      "authorship_tag": "ABX9TyOlnGJNQzdTW4/x7a0q9xUS",
      "include_colab_link": true
    },
    "kernelspec": {
      "name": "python3",
      "display_name": "Python 3"
    },
    "language_info": {
      "name": "python"
    }
  },
  "cells": [
    {
      "cell_type": "markdown",
      "metadata": {
        "id": "view-in-github",
        "colab_type": "text"
      },
      "source": [
        "<a href=\"https://colab.research.google.com/github/kenziedryden/projects/blob/main/Mirror.ipynb\" target=\"_parent\"><img src=\"https://colab.research.google.com/assets/colab-badge.svg\" alt=\"Open In Colab\"/></a>"
      ]
    },
    {
      "cell_type": "code",
      "execution_count": null,
      "metadata": {
        "id": "LgLtJGU6zfZ6"
      },
      "outputs": [],
      "source": [
        "def recursion_sumation(n):\n",
        "  if n == 0:\n",
        "    return 0\n",
        "  else:\n",
        "    return n + recursion_sumation(n-1)\n",
        "\n",
        "  recursion_sumation(4)"
      ]
    },
    {
      "cell_type": "code",
      "source": [
        "def recursion_sumation(n):\n",
        "  if n == 0:\n",
        "    return 1\n",
        "  else:\n",
        "    return n * recursion_sumation(n-1)\n",
        "\n",
        "  recursion_sumation(2)"
      ],
      "metadata": {
        "id": "-htSxD92zxx3"
      },
      "execution_count": 13,
      "outputs": []
    },
    {
      "cell_type": "code",
      "source": [
        "def factR(n):\n",
        "  if n == 1:\n",
        "    return 1\n",
        "  else:\n",
        "    return n * factR(n-1)\n",
        "\n",
        "    factR(5)"
      ],
      "metadata": {
        "id": "En1OKEmU2ODS"
      },
      "execution_count": 14,
      "outputs": []
    },
    {
      "cell_type": "code",
      "source": [
        "def fact(n):\n",
        "  prod = 1\n",
        "  while n >= 1:\n",
        "    prod = prod * n\n",
        "    n = n - 1"
      ],
      "metadata": {
        "id": "fUfgo2eP3CEd"
      },
      "execution_count": 21,
      "outputs": []
    },
    {
      "cell_type": "code",
      "source": [
        "##Inductive Case:1, 1, 2, 3, 5, 8, 13, 21, 34\n",
        "\n",
        "## n = f(n-1) + f(n-2)\n",
        "\n",
        "##Base Cases: n = 0, f(0) = 1, n = 1, f(1) = 1\n",
        "\n",
        "def fibR(n):\n",
        "  if n == 0 or n == 1:\n",
        "    return 1\n",
        "  else:\n",
        "    return fibR(n-1) + fibR(n-2)\n",
        "\n",
        "for i in range(8):\n",
        "  print(fibR(i), end=\" \")\n",
        "\n"
      ],
      "metadata": {
        "colab": {
          "base_uri": "https://localhost:8080/"
        },
        "id": "ZPzGLbFd3q6l",
        "outputId": "68c600b5-7170-4f8f-d6c8-7f8c85bf6598"
      },
      "execution_count": 28,
      "outputs": [
        {
          "output_type": "stream",
          "name": "stdout",
          "text": [
            "1 1 2 3 5 8 13 21 "
          ]
        }
      ]
    },
    {
      "cell_type": "code",
      "source": [
        "def mirror(n):\n",
        "  if len(n) == 1:\n",
        "   return(n)\n",
        "  else:\n",
        "    return n[-1] + mirror(n[:-1])\n",
        "\n",
        "mirror('Hello')"
      ],
      "metadata": {
        "colab": {
          "base_uri": "https://localhost:8080/",
          "height": 35
        },
        "id": "l72W0okEA4mh",
        "outputId": "ec981ca5-0626-41bd-8d40-b77d6c298440"
      },
      "execution_count": 20,
      "outputs": [
        {
          "output_type": "execute_result",
          "data": {
            "text/plain": [
              "'olleH'"
            ],
            "application/vnd.google.colaboratory.intrinsic+json": {
              "type": "string"
            }
          },
          "metadata": {},
          "execution_count": 20
        }
      ]
    },
    {
      "cell_type": "code",
      "source": [
        "\n"
      ],
      "metadata": {
        "id": "5oYFN-sJI9q-"
      },
      "execution_count": null,
      "outputs": []
    }
  ]
}