{
  "nbformat": 4,
  "nbformat_minor": 0,
  "metadata": {
    "colab": {
      "provenance": [],
      "include_colab_link": true
    },
    "kernelspec": {
      "name": "python3",
      "display_name": "Python 3"
    },
    "language_info": {
      "name": "python"
    }
  },
  "cells": [
    {
      "cell_type": "markdown",
      "metadata": {
        "id": "view-in-github",
        "colab_type": "text"
      },
      "source": [
        "<a href=\"https://colab.research.google.com/github/kenziedryden/projects/blob/main/UPS_problem.ipynb\" target=\"_parent\"><img src=\"https://colab.research.google.com/assets/colab-badge.svg\" alt=\"Open In Colab\"/></a>"
      ]
    },
    {
      "cell_type": "code",
      "execution_count": null,
      "metadata": {
        "id": "-Pjs3GeLWQdT",
        "colab": {
          "base_uri": "https://localhost:8080/"
        },
        "outputId": "795af6cd-d331-48aa-d5d0-516ff5754ba1"
      },
      "outputs": [
        {
          "output_type": "stream",
          "name": "stdout",
          "text": [
            "Requirement already satisfied: gurobipy in /usr/local/lib/python3.10/dist-packages (11.0.3)\n"
          ]
        }
      ],
      "source": [
        "!pip install gurobipy  # install gurobipy, if not already installed\n",
        "import gurobipy as gp #import the module (or package) name gurobipy abbreviated as gp\n",
        "from gurobipy import GRB #import the model GRB\n",
        "# these three lines of code are standard every time we want to develop\n",
        "# an optimization model in python with gurobi\n"
      ]
    },
    {
      "cell_type": "markdown",
      "source": [
        "# This example formulates and solves the UPS problem from lecture 1\n",
        "# minimize  50*x1 + 30*x2\n",
        "#  subject to  40*x1 + 25*x2 >= 400   (demand cosntraint)\n",
        "#             x1 + x2 <= 13          (drivers constraint)\n",
        "#             x1 <= 11               (large trucks constraint)\n",
        "#            x2 <= 10               (small trucks constraint)\n",
        "#              x1, x2 non-negative"
      ],
      "metadata": {
        "id": "lizjrZLeYx_s"
      }
    },
    {
      "cell_type": "code",
      "source": [
        "m = gp.Model('UPS Problem') #create a new model and name it UPS Problem"
      ],
      "metadata": {
        "id": "BywgU-X-Y8U2",
        "colab": {
          "base_uri": "https://localhost:8080/"
        },
        "outputId": "51e871f3-dcec-4350-8bc3-ba0ff05797ce"
      },
      "execution_count": null,
      "outputs": [
        {
          "output_type": "stream",
          "name": "stdout",
          "text": [
            "Restricted license - for non-production use only - expires 2025-11-24\n"
          ]
        }
      ]
    },
    {
      "cell_type": "code",
      "source": [
        "# Create variables\n",
        "x1 = m.addVar(name='Large Trucks') #add a variable to model m represented by x1, named 'Large Trucks'\n",
        "x2 = m.addVar(name='Small Trucks') #add a variable to model m represented by x2, named 'Large Trucks'"
      ],
      "metadata": {
        "id": "hjrmQRU6ZIQY"
      },
      "execution_count": null,
      "outputs": []
    },
    {
      "cell_type": "code",
      "source": [
        "# Set objective: 50*x1 + 30*x2\n",
        "obj = 50*x1 + 30*x2 #define objective function\n",
        "m.setObjective(obj, GRB.MINIMIZE) #set the objective according to variable names \"obj\" and minimize (instead of maximize)"
      ],
      "metadata": {
        "id": "1OHc-WRpZbVm"
      },
      "execution_count": null,
      "outputs": []
    },
    {
      "cell_type": "code",
      "source": [
        "# Add constraint: 40*x1 + 25*x2 >= 400\n",
        "m.addConstr(40*x1 + 25*x2 >= 400, 'satisfy demand')\n",
        "\n",
        "# Add constraint x1 + x2 <= 13\n",
        "m.addConstr(x1 + x2 <= 13, 'drivers availability')\n",
        "\n",
        "# Add constraint x1 <= 11\n",
        "m.addConstr(x1  <= 11, 'large trucks availability')\n",
        "\n",
        "# Add constraint x2 <= 10\n",
        "m.addConstr(x2  <= 10, 'small trucks availability')\n",
        "\n",
        "# no need to add the non-negativity constraint\n",
        "# by default, variables are. non-negative"
      ],
      "metadata": {
        "id": "nG8EPInwaG8F",
        "colab": {
          "base_uri": "https://localhost:8080/"
        },
        "outputId": "c8ac6cbc-f641-47bc-ca70-b98c1c8d3322"
      },
      "execution_count": null,
      "outputs": [
        {
          "output_type": "execute_result",
          "data": {
            "text/plain": [
              "<gurobi.Constr *Awaiting Model Update*>"
            ]
          },
          "metadata": {},
          "execution_count": 6
        }
      ]
    },
    {
      "cell_type": "code",
      "source": [
        "#solve the model\n",
        "m.optimize()"
      ],
      "metadata": {
        "id": "-KyJWDRwdPPm",
        "colab": {
          "base_uri": "https://localhost:8080/"
        },
        "outputId": "c0f2b4cf-d657-4123-f757-402e8ac39bb9"
      },
      "execution_count": null,
      "outputs": [
        {
          "output_type": "stream",
          "name": "stdout",
          "text": [
            "Gurobi Optimizer version 11.0.3 build v11.0.3rc0 (linux64 - \"Ubuntu 22.04.3 LTS\")\n",
            "\n",
            "CPU model: Intel(R) Xeon(R) CPU @ 2.20GHz, instruction set [SSE2|AVX|AVX2]\n",
            "Thread count: 1 physical cores, 2 logical processors, using up to 2 threads\n",
            "\n",
            "Optimize a model with 4 rows, 2 columns and 6 nonzeros\n",
            "Model fingerprint: 0x765ca71d\n",
            "Coefficient statistics:\n",
            "  Matrix range     [1e+00, 4e+01]\n",
            "  Objective range  [3e+01, 5e+01]\n",
            "  Bounds range     [0e+00, 0e+00]\n",
            "  RHS range        [1e+01, 4e+02]\n",
            "Presolve removed 4 rows and 2 columns\n",
            "Presolve time: 0.02s\n",
            "Presolve: All rows and columns removed\n",
            "Iteration    Objective       Primal Inf.    Dual Inf.      Time\n",
            "       0    4.9000000e+02   0.000000e+00   0.000000e+00      0s\n",
            "\n",
            "Solved in 0 iterations and 0.02 seconds (0.00 work units)\n",
            "Optimal objective  4.900000000e+02\n"
          ]
        }
      ]
    },
    {
      "cell_type": "code",
      "source": [
        "#in this code cell, we print the outcome of optimization.\n",
        "#first, with the use of a \"for-loop\", we access the optimal values of our decision variables\n",
        "for v in m.getVars(): #for each variable v inside m\n",
        "    print(v.VarName, v.x) #print the name of the variable and its optimal value\n",
        "\n",
        "print('Obj: ', obj.getValue()) #print the string \"Obj: \" followed by the optimal objective value"
      ],
      "metadata": {
        "id": "zlRBDJGFd4S_",
        "colab": {
          "base_uri": "https://localhost:8080/"
        },
        "outputId": "f357a419-2229-49cc-b5d0-b3153972f29b"
      },
      "execution_count": null,
      "outputs": [
        {
          "output_type": "stream",
          "name": "stdout",
          "text": [
            "Large Trucks 5.0\n",
            "Small Trucks 8.0\n",
            "Obj:  490.0\n"
          ]
        }
      ]
    },
    {
      "cell_type": "code",
      "source": [],
      "metadata": {
        "id": "tw8pDTG_QN81"
      },
      "execution_count": null,
      "outputs": []
    }
  ]
}