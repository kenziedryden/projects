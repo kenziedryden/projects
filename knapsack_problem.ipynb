{
  "nbformat": 4,
  "nbformat_minor": 0,
  "metadata": {
    "colab": {
      "provenance": [],
      "include_colab_link": true
    },
    "kernelspec": {
      "name": "python3",
      "display_name": "Python 3"
    },
    "language_info": {
      "name": "python"
    }
  },
  "cells": [
    {
      "cell_type": "markdown",
      "metadata": {
        "id": "view-in-github",
        "colab_type": "text"
      },
      "source": [
        "<a href=\"https://colab.research.google.com/github/kenziedryden/projects/blob/main/knapsack_problem.ipynb\" target=\"_parent\"><img src=\"https://colab.research.google.com/assets/colab-badge.svg\" alt=\"Open In Colab\"/></a>"
      ]
    },
    {
      "cell_type": "code",
      "execution_count": null,
      "metadata": {
        "id": "4ec9wWZsZUzT",
        "colab": {
          "base_uri": "https://localhost:8080/"
        },
        "outputId": "76e0b608-d65d-46f0-a4d2-1c0d1d478e4a"
      },
      "outputs": [
        {
          "output_type": "stream",
          "name": "stdout",
          "text": [
            "Collecting gurobipy\n",
            "  Downloading gurobipy-11.0.3-cp310-cp310-manylinux2014_x86_64.manylinux_2_17_x86_64.whl.metadata (15 kB)\n",
            "Downloading gurobipy-11.0.3-cp310-cp310-manylinux2014_x86_64.manylinux_2_17_x86_64.whl (13.4 MB)\n",
            "\u001b[2K   \u001b[90m━━━━━━━━━━━━━━━━━━━━━━━━━━━━━━━━━━━━━━━━\u001b[0m \u001b[32m13.4/13.4 MB\u001b[0m \u001b[31m47.2 MB/s\u001b[0m eta \u001b[36m0:00:00\u001b[0m\n",
            "\u001b[?25hInstalling collected packages: gurobipy\n",
            "Successfully installed gurobipy-11.0.3\n"
          ]
        }
      ],
      "source": [
        "!pip install gurobipy\n",
        "import gurobipy as gp\n",
        "from gurobipy import GRB"
      ]
    },
    {
      "cell_type": "markdown",
      "source": [
        "**Solve the knapsack problem from lecture 8. Numbers in 10000's.**\n",
        "\n",
        "\n",
        "\\begin{align*}\n",
        "\\max\\;\\;&6x_1+4x_2+8x_3+11x_4\\\\\n",
        "\\text{s.t.}&\\\\\n",
        "&4x_1+3x_2+5x_3+7x_4\\leq 14\\\\\n",
        "&x_i \\text{ binary,}\\;\\; i=1,2,3,4\n",
        "\\end{align*}"
      ],
      "metadata": {
        "id": "Ft6Kgtj73Gaz"
      }
    },
    {
      "cell_type": "code",
      "source": [
        "# Input data\n",
        "v = [6, 4, 8, 11] #v is a variable of type \"list\" representing the values of the items under consideration\n",
        "w = [4, 3, 5, 7] # w is a variable of type \"list\" representing the weights of the items under consideration\n",
        "b = 14 # b is the budget\n",
        "n = len(v) #the function len(v) returns as output the total number of members inside list v\n",
        "\n",
        "print(\"Number of items:\",n)\n",
        "print(\"Budget available:\",b)"
      ],
      "metadata": {
        "id": "N42H8NqgaG69",
        "colab": {
          "base_uri": "https://localhost:8080/"
        },
        "outputId": "7d9715d4-8fe9-4673-d294-aadc10036e54"
      },
      "execution_count": null,
      "outputs": [
        {
          "output_type": "stream",
          "name": "stdout",
          "text": [
            "Number of items: 4\n",
            "Budget available: 14\n"
          ]
        }
      ]
    },
    {
      "cell_type": "code",
      "source": [
        "# Create model object\n",
        "m = gp.Model()\n",
        "\n",
        "# Create variables\n",
        "x = m.addVars(range(n), vtype=GRB.BINARY) # introduce n = 4 binary variables\n",
        "# notice that our variables are indecxed x[0], x[1], x[2], x[3] by making use of range(n).\n",
        "# if we wanted indexing to begin from 1, i.e., x[1], x[2], x[3], x[4], we should have made use of:\n",
        "#x = m.addVars(range(1,n+1), vtype=GRB.BINARY)\n",
        "\n",
        "# Objective function\n",
        "m.setObjective( gp.quicksum( v[i]*x[i] for i in range(n) ), GRB.MAXIMIZE )\n",
        "# maximize v[0]*x[0] + v[1]*x[1] + v[2]*x[2] + v[3]*x[3] = SUMPRODUCT(v,x)\n",
        "\n",
        "# Budget constraint\n",
        "m.addConstr( gp.quicksum( w[i]*x[i] for i in range(n) ) <= b )\n",
        "\n",
        "# Solve\n",
        "m.optimize()"
      ],
      "metadata": {
        "id": "5a99QSp9awqr",
        "colab": {
          "base_uri": "https://localhost:8080/"
        },
        "outputId": "f2a084b3-efde-4862-f074-000ed1216e0b"
      },
      "execution_count": null,
      "outputs": [
        {
          "output_type": "stream",
          "name": "stdout",
          "text": [
            "Restricted license - for non-production use only - expires 2025-11-24\n",
            "Gurobi Optimizer version 11.0.3 build v11.0.3rc0 (linux64 - \"Ubuntu 22.04.3 LTS\")\n",
            "\n",
            "CPU model: Intel(R) Xeon(R) CPU @ 2.20GHz, instruction set [SSE2|AVX|AVX2]\n",
            "Thread count: 1 physical cores, 2 logical processors, using up to 2 threads\n",
            "\n",
            "Optimize a model with 1 rows, 4 columns and 4 nonzeros\n",
            "Model fingerprint: 0xe6fbf249\n",
            "Variable types: 0 continuous, 4 integer (4 binary)\n",
            "Coefficient statistics:\n",
            "  Matrix range     [3e+00, 7e+00]\n",
            "  Objective range  [4e+00, 1e+01]\n",
            "  Bounds range     [1e+00, 1e+00]\n",
            "  RHS range        [1e+01, 1e+01]\n",
            "Found heuristic solution: objective 18.0000000\n",
            "Presolve removed 1 rows and 4 columns\n",
            "Presolve time: 0.00s\n",
            "Presolve: All rows and columns removed\n",
            "\n",
            "Explored 0 nodes (0 simplex iterations) in 0.03 seconds (0.00 work units)\n",
            "Thread count was 1 (of 2 available processors)\n",
            "\n",
            "Solution count 2: 21 18 \n",
            "\n",
            "Optimal solution found (tolerance 1.00e-04)\n",
            "Best objective 2.100000000000e+01, best bound 2.100000000000e+01, gap 0.0000%\n"
          ]
        }
      ]
    },
    {
      "cell_type": "code",
      "source": [
        "print(\"Objective value:\",m.objVal)\n",
        "\n",
        "selected_items = [ i+1 for i in range(n) if x[i].x > 0.5 ]\n",
        "\n",
        "# x[i].x is the optimal value of variable x[i].\n",
        "# NOTE: x[i].x is a floating point value,\n",
        "#    e.g., as 0.999999999 or 1.00000001\n",
        "# This is why we check the weaker condition \"is x[i].x > 0.5? \"\n",
        "# instead of x[i].x == 1\n",
        "\n",
        "# We also note that x[i] represents i+1, i=0,1,2,3.\n",
        "# Therefore, if x[i] == 1 then we place item i+1 inside knapsack.\n",
        "print(\"Select these items:\",selected_items)"
      ],
      "metadata": {
        "id": "XuJ2xjwxbNlj",
        "colab": {
          "base_uri": "https://localhost:8080/"
        },
        "outputId": "7929d64e-6d7b-4e36-bab1-e8599d3ad69a"
      },
      "execution_count": null,
      "outputs": [
        {
          "output_type": "stream",
          "name": "stdout",
          "text": [
            "Objective value: 21.0\n",
            "Select these items: [1, 2, 4]\n"
          ]
        }
      ]
    },
    {
      "cell_type": "code",
      "source": [
        "# Out of curiousity, let's solve the continuous version of the problem\n",
        "\n",
        "# Create LP relaxation model and solve it\n",
        "r = m.relax() # the function m.relax() allows the variables to be continuous in the interval [0,1]\n",
        "r.optimize() # we remove of \"relax\" the constraint that variables are binary or integer"
      ],
      "metadata": {
        "id": "u67w-g6Mbz5I",
        "colab": {
          "base_uri": "https://localhost:8080/"
        },
        "outputId": "875731d6-1256-4ef8-f1c7-927e7d044e80"
      },
      "execution_count": null,
      "outputs": [
        {
          "output_type": "stream",
          "name": "stdout",
          "text": [
            "Gurobi Optimizer version 11.0.3 build v11.0.3rc0 (linux64 - \"Ubuntu 22.04.3 LTS\")\n",
            "\n",
            "CPU model: Intel(R) Xeon(R) CPU @ 2.20GHz, instruction set [SSE2|AVX|AVX2]\n",
            "Thread count: 1 physical cores, 2 logical processors, using up to 2 threads\n",
            "\n",
            "Optimize a model with 1 rows, 4 columns and 4 nonzeros\n",
            "Model fingerprint: 0x102c2b15\n",
            "Coefficient statistics:\n",
            "  Matrix range     [3e+00, 7e+00]\n",
            "  Objective range  [4e+00, 1e+01]\n",
            "  Bounds range     [1e+00, 1e+00]\n",
            "  RHS range        [1e+01, 1e+01]\n",
            "Presolve time: 0.02s\n",
            "Presolved: 1 rows, 4 columns, 4 nonzeros\n",
            "\n",
            "Iteration    Objective       Primal Inf.    Dual Inf.      Time\n",
            "       0    2.2400000e+01   1.800000e+00   0.000000e+00      0s\n",
            "       1    2.2000000e+01   0.000000e+00   0.000000e+00      0s\n",
            "\n",
            "Solved in 1 iterations and 0.03 seconds (0.00 work units)\n",
            "Optimal objective  2.200000000e+01\n"
          ]
        }
      ]
    },
    {
      "cell_type": "code",
      "source": [
        "print('Optimal Continuous Relaxation Solution')\n",
        "for v in r.getVars():\n",
        "    print(v.x)\n",
        "\n",
        "#Print maximized profit value\n",
        "print('Continuous Relaxation Objective:',  r.objVal)"
      ],
      "metadata": {
        "id": "7avMmFXtcRi6",
        "colab": {
          "base_uri": "https://localhost:8080/"
        },
        "outputId": "a81f49be-ecda-4319-e182-c8bc02b39579"
      },
      "execution_count": null,
      "outputs": [
        {
          "output_type": "stream",
          "name": "stdout",
          "text": [
            "Optimal Continuous Relaxation Solution\n",
            "0.5\n",
            "0.0\n",
            "1.0\n",
            "1.0\n",
            "Continuous Relaxation Objective: 22.0\n"
          ]
        }
      ]
    }
  ]
}