{
  "cells": [
    {
      "cell_type": "markdown",
      "metadata": {
        "id": "view-in-github",
        "colab_type": "text"
      },
      "source": [
        "<a href=\"https://colab.research.google.com/github/kenziedryden/projects/blob/main/assignment_problem.ipynb\" target=\"_parent\"><img src=\"https://colab.research.google.com/assets/colab-badge.svg\" alt=\"Open In Colab\"/></a>"
      ]
    },
    {
      "cell_type": "markdown",
      "source": [
        "## Read and prepare the data"
      ],
      "metadata": {
        "id": "9dNgkcWYaOml"
      }
    },
    {
      "cell_type": "code",
      "execution_count": null,
      "metadata": {
        "id": "xp06BJcKziv2"
      },
      "outputs": [],
      "source": [
        "import pandas as pd #import module (or package) pandas abbreviated as pd"
      ]
    },
    {
      "cell_type": "code",
      "execution_count": null,
      "metadata": {
        "id": "WBBGy0_vziv4",
        "colab": {
          "base_uri": "https://localhost:8080/"
        },
        "outputId": "faf63f3f-9cd7-4416-e99a-e5cf3ac2cbf3"
      },
      "outputs": [
        {
          "output_type": "stream",
          "name": "stdout",
          "text": [
            "               1   2   3   4   5   6   7   8   9   10  11  12  13  14  15\n",
            "Resource\\Task                                                            \n",
            "1              17  14   9  16   8   4   3  18  16  11  13   7   2   1   1\n",
            "2              19   1   8   6  17  16  20  13   8   6   8  19   6  18  15\n",
            "3               3  17  16  11  12   7   1   8   5  15  17   9  17  19  11\n",
            "4              19  19  16  14  11  11  16  11   9   4  11   4   1  16  10\n",
            "5              13  14   4  18  19   4  17   9   2  14   8  19  19   2  19\n",
            "6               2  16  10  20   6  13  18   2   3   4  19  20  15   6  13\n",
            "7               6  15   9  11  16   6   2   5  19   8  18   9  10   7  13\n",
            "8              11   8  13   3  16  14   8   3  20  13  12   3  12  14  18\n",
            "9              20  14  15   3   8  14   6   4  12  16  13   6   5   3  17\n",
            "10             20   4  16   6  12  15  17   5   2   2  12   9  10  15  12\n",
            "11              4  15   6  17   2  10   9   9   5  19   5  12  20   3   4\n",
            "12             20   1  14   6   2   2  19   1   8  16   7   6  11  14   5\n",
            "13             20   6  14  17  11   5   4  19  17  10  10  13  11  10  18\n",
            "14             10   1   4   5  16  19   6  19   1   9   5  15   5  16   1\n",
            "15             17   2   3  19  19   4   3  10   1   9  17   5  10  15  10\n",
            "16              3  17  10   7   3  17   3  10   4   7   4   3  13  19   4\n",
            "17              9  14  20   4  12  11  18   7  13  11   5   6  14  18  20\n",
            "18             19   7   7   6  10  20  12  19  15  11   4   7   8   7  15\n",
            "19             16  20  12  13   1   2  11   8  13  17   5   9   8  14  11\n",
            "20             20   1   5  10   7   9   3   3  10  16   9  11  20   4  10\n",
            "Index([1, 2, 3, 4, 5, 6, 7, 8, 9, 10, 11, 12, 13, 14, 15, 16, 17, 18, 19, 20], dtype='int64', name='Resource\\Task')\n",
            "Index([1, 2, 3, 4, 5, 6, 7, 8, 9, 10, 11, 12, 13, 14, 15], dtype='int64')\n",
            "[[17 14  9 16  8  4  3 18 16 11 13  7  2  1  1]\n",
            " [19  1  8  6 17 16 20 13  8  6  8 19  6 18 15]\n",
            " [ 3 17 16 11 12  7  1  8  5 15 17  9 17 19 11]\n",
            " [19 19 16 14 11 11 16 11  9  4 11  4  1 16 10]\n",
            " [13 14  4 18 19  4 17  9  2 14  8 19 19  2 19]\n",
            " [ 2 16 10 20  6 13 18  2  3  4 19 20 15  6 13]\n",
            " [ 6 15  9 11 16  6  2  5 19  8 18  9 10  7 13]\n",
            " [11  8 13  3 16 14  8  3 20 13 12  3 12 14 18]\n",
            " [20 14 15  3  8 14  6  4 12 16 13  6  5  3 17]\n",
            " [20  4 16  6 12 15 17  5  2  2 12  9 10 15 12]\n",
            " [ 4 15  6 17  2 10  9  9  5 19  5 12 20  3  4]\n",
            " [20  1 14  6  2  2 19  1  8 16  7  6 11 14  5]\n",
            " [20  6 14 17 11  5  4 19 17 10 10 13 11 10 18]\n",
            " [10  1  4  5 16 19  6 19  1  9  5 15  5 16  1]\n",
            " [17  2  3 19 19  4  3 10  1  9 17  5 10 15 10]\n",
            " [ 3 17 10  7  3 17  3 10  4  7  4  3 13 19  4]\n",
            " [ 9 14 20  4 12 11 18  7 13 11  5  6 14 18 20]\n",
            " [19  7  7  6 10 20 12 19 15 11  4  7  8  7 15]\n",
            " [16 20 12 13  1  2 11  8 13 17  5  9  8 14 11]\n",
            " [20  1  5 10  7  9  3  3 10 16  9 11 20  4 10]]\n"
          ]
        }
      ],
      "source": [
        "c=pd.read_excel('lecture 11.xlsx','assignment_optimization_model',usecols='A:P',nrows = 21,index_col=0)\n",
        "## FOR HOMEWORK, CHANGE FILE NAME AND DATA COLLECTION\n",
        "#pd.read_excel is a functino that reads data from an excel file\n",
        "#the first input og this function is the filename inside single quotes\n",
        "#te second input is the spreadsheet name inside single\n",
        "#read the info betweencolumns \"A:P\" and down to rows #nrows = 21\n",
        "#Q: What is the purspe of index_col = 0?\n",
        "#A: the data between A1 and P21 will be stored in a variable named \"c\"\n",
        "#The variabel \"c\" is of type \"data frame\"\n",
        "print(c) #print on screen the whole data frame, including the names of the rows and the names of the columns\n",
        "print(c.index) #c.indez containts the labels (or indices) of the rows\n",
        "print(c.columns) #c.columns contains the labels (or indices) of the columns\n",
        "print(c.values)#c.values contains the data without the names (or indices) of the rows and columns"
      ]
    },
    {
      "cell_type": "code",
      "execution_count": null,
      "metadata": {
        "id": "v7GTd_G5ziv5",
        "colab": {
          "base_uri": "https://localhost:8080/"
        },
        "outputId": "c7e149f0-214c-484b-d734-571046292c28"
      },
      "outputs": [
        {
          "output_type": "stream",
          "name": "stdout",
          "text": [
            "Index(['Resource 1', 'Resource 2', 'Resource 3', 'Resource 4', 'Resource 5',\n",
            "       'Resource 6', 'Resource 7', 'Resource 8', 'Resource 9', 'Resource 10',\n",
            "       'Resource 11', 'Resource 12', 'Resource 13', 'Resource 14',\n",
            "       'Resource 15', 'Resource 16', 'Resource 17', 'Resource 18',\n",
            "       'Resource 19', 'Resource 20'],\n",
            "      dtype='object')\n",
            "Index(['Task 1', 'Task 2', 'Task 3', 'Task 4', 'Task 5', 'Task 6', 'Task 7',\n",
            "       'Task 8', 'Task 9', 'Task 10', 'Task 11', 'Task 12', 'Task 13',\n",
            "       'Task 14', 'Task 15'],\n",
            "      dtype='object')\n"
          ]
        }
      ],
      "source": [
        "c.index=[\"Resource \"+str(i) for i in c.index] #change the row indices as Resource 1, Resource 2,....\n",
        "c.columns=[\"Task \"+str(i) for i in c.columns]\n",
        "print(c.index) # print the c\n",
        "print(c.columns)"
      ]
    },
    {
      "cell_type": "code",
      "execution_count": null,
      "metadata": {
        "id": "qHgzCIuRziv6"
      },
      "outputs": [],
      "source": [
        "I = c.index\n",
        "J = c.columns"
      ]
    },
    {
      "cell_type": "markdown",
      "metadata": {
        "id": "AtkX44b1ziv7"
      },
      "source": [
        "## Gurobi Model"
      ]
    },
    {
      "cell_type": "code",
      "execution_count": null,
      "metadata": {
        "id": "u9c8fUtJIHDE",
        "scrolled": true,
        "colab": {
          "base_uri": "https://localhost:8080/"
        },
        "outputId": "ff74cfb9-cf3b-47a3-8d76-ecbd4ea1d17e"
      },
      "outputs": [
        {
          "output_type": "stream",
          "name": "stdout",
          "text": [
            "Collecting gurobipy\n",
            "  Downloading gurobipy-11.0.3-cp310-cp310-manylinux2014_x86_64.manylinux_2_17_x86_64.whl.metadata (15 kB)\n",
            "Downloading gurobipy-11.0.3-cp310-cp310-manylinux2014_x86_64.manylinux_2_17_x86_64.whl (13.4 MB)\n",
            "\u001b[2K   \u001b[90m━━━━━━━━━━━━━━━━━━━━━━━━━━━━━━━━━━━━━━━━\u001b[0m \u001b[32m13.4/13.4 MB\u001b[0m \u001b[31m69.4 MB/s\u001b[0m eta \u001b[36m0:00:00\u001b[0m\n",
            "\u001b[?25hInstalling collected packages: gurobipy\n",
            "Successfully installed gurobipy-11.0.3\n"
          ]
        }
      ],
      "source": [
        "!pip install gurobipy\n",
        "import gurobipy as gp\n",
        "from gurobipy import GRB"
      ]
    },
    {
      "cell_type": "code",
      "execution_count": null,
      "metadata": {
        "id": "YykKq8xsIAAB"
      },
      "outputs": [],
      "source": [
        "# Create gurobi model\n",
        "m = gp.Model()\n",
        "\n",
        "# Create variable x_ij for each pair resource i and task j\n",
        "x = m.addVars(I,J,vtype=GRB.BINARY) #introduce 300 = 15 x 20 binary variables\n",
        "#for every i in I, and for every j in J, introduce a variable x[i,j].\n",
        "#as a reminder, I = ['Resource 1', 'Resource 2', ... 'Resource 15']\n",
        "#and J = ['Task 1', 'Task 2', ...'Task 20']"
      ]
    },
    {
      "cell_type": "code",
      "source": [
        "# Objective function: minimize cost of assigning tasks\n",
        "# IN HOMEWORK, MAYBE MAXIMIZE INSTEAD OF MINIMIZE\n",
        "m.setObjective( gp.quicksum( c.loc[i,j] * x[i,j] for i in I for j in J ), GRB.MINIMIZE )\n",
        "#c is the data frame type of variavel. to access the value of c at row i and column j,\n",
        "#we make use of c.loc{i,j}.\n",
        "#x is gurobipy decision type of varibale. to access the value of x at row i and column j,\n",
        "#we make use of x[i,j]."
      ],
      "metadata": {
        "id": "0bplk3auvMYI"
      },
      "execution_count": null,
      "outputs": []
    },
    {
      "cell_type": "markdown",
      "source": [
        "Objective:\n",
        "\n",
        "$$\n",
        "\\min \\sum_{i=1}^{15}\\sum_{j=1}^{20}c_{ij}x_{ij}\n",
        "$$\n"
      ],
      "metadata": {
        "id": "96wf0xRGlvSX"
      }
    },
    {
      "cell_type": "code",
      "source": [
        "# Each \"Resource i\" will undertake at most one task\n",
        "m.addConstrs( gp.quicksum( x[i,j] for j in J ) <= 1 for i in I )\n",
        "#in excel, we ask that the sum of each row (yellow cells Q23:Q43) < 1"
      ],
      "metadata": {
        "id": "S30oTSggvOjv",
        "colab": {
          "base_uri": "https://localhost:8080/"
        },
        "outputId": "5ba7ad5d-e8f5-435b-bb53-4ca14cc1df14"
      },
      "execution_count": null,
      "outputs": [
        {
          "output_type": "execute_result",
          "data": {
            "text/plain": [
              "{'Resource 1': <gurobi.Constr *Awaiting Model Update*>,\n",
              " 'Resource 2': <gurobi.Constr *Awaiting Model Update*>,\n",
              " 'Resource 3': <gurobi.Constr *Awaiting Model Update*>,\n",
              " 'Resource 4': <gurobi.Constr *Awaiting Model Update*>,\n",
              " 'Resource 5': <gurobi.Constr *Awaiting Model Update*>,\n",
              " 'Resource 6': <gurobi.Constr *Awaiting Model Update*>,\n",
              " 'Resource 7': <gurobi.Constr *Awaiting Model Update*>,\n",
              " 'Resource 8': <gurobi.Constr *Awaiting Model Update*>,\n",
              " 'Resource 9': <gurobi.Constr *Awaiting Model Update*>,\n",
              " 'Resource 10': <gurobi.Constr *Awaiting Model Update*>,\n",
              " 'Resource 11': <gurobi.Constr *Awaiting Model Update*>,\n",
              " 'Resource 12': <gurobi.Constr *Awaiting Model Update*>,\n",
              " 'Resource 13': <gurobi.Constr *Awaiting Model Update*>,\n",
              " 'Resource 14': <gurobi.Constr *Awaiting Model Update*>,\n",
              " 'Resource 15': <gurobi.Constr *Awaiting Model Update*>,\n",
              " 'Resource 16': <gurobi.Constr *Awaiting Model Update*>,\n",
              " 'Resource 17': <gurobi.Constr *Awaiting Model Update*>,\n",
              " 'Resource 18': <gurobi.Constr *Awaiting Model Update*>,\n",
              " 'Resource 19': <gurobi.Constr *Awaiting Model Update*>,\n",
              " 'Resource 20': <gurobi.Constr *Awaiting Model Update*>}"
            ]
          },
          "metadata": {},
          "execution_count": 13
        }
      ]
    },
    {
      "cell_type": "markdown",
      "source": [
        "$$\n",
        "\\sum_{j=1}^{20}x_{ij} \\leq 1 \\text{ for all $i=1,2,...,15.$}\n",
        "$$"
      ],
      "metadata": {
        "id": "nFM3e-B3oV5-"
      }
    },
    {
      "cell_type": "code",
      "source": [
        "# Each \"Task j\" will be undertaken by exaclty one resource\n",
        "m.addConstrs( gp.quicksum( x[i,j] for i in I ) == 1 for j in J )\n",
        "# in excel, we ask that the sum of each column (yellow cells B44:P44) = 1\n",
        "# note that we make use of == instead of =, becuase we compare LHS with RHS,\n",
        "#we do not make assignments of values to variables"
      ],
      "metadata": {
        "id": "k-THxSu6vUpt",
        "colab": {
          "base_uri": "https://localhost:8080/"
        },
        "outputId": "bfb06d7b-cbe9-4486-86e1-0bce386f7215"
      },
      "execution_count": null,
      "outputs": [
        {
          "output_type": "execute_result",
          "data": {
            "text/plain": [
              "{'Task 1': <gurobi.Constr *Awaiting Model Update*>,\n",
              " 'Task 2': <gurobi.Constr *Awaiting Model Update*>,\n",
              " 'Task 3': <gurobi.Constr *Awaiting Model Update*>,\n",
              " 'Task 4': <gurobi.Constr *Awaiting Model Update*>,\n",
              " 'Task 5': <gurobi.Constr *Awaiting Model Update*>,\n",
              " 'Task 6': <gurobi.Constr *Awaiting Model Update*>,\n",
              " 'Task 7': <gurobi.Constr *Awaiting Model Update*>,\n",
              " 'Task 8': <gurobi.Constr *Awaiting Model Update*>,\n",
              " 'Task 9': <gurobi.Constr *Awaiting Model Update*>,\n",
              " 'Task 10': <gurobi.Constr *Awaiting Model Update*>,\n",
              " 'Task 11': <gurobi.Constr *Awaiting Model Update*>,\n",
              " 'Task 12': <gurobi.Constr *Awaiting Model Update*>,\n",
              " 'Task 13': <gurobi.Constr *Awaiting Model Update*>,\n",
              " 'Task 14': <gurobi.Constr *Awaiting Model Update*>,\n",
              " 'Task 15': <gurobi.Constr *Awaiting Model Update*>}"
            ]
          },
          "metadata": {},
          "execution_count": 14
        }
      ]
    },
    {
      "cell_type": "markdown",
      "source": [
        "$$\n",
        "\\sum_{i=1}^{15}x_{ij} = 1 \\text{ for all $j=1,2,...,20$}\n",
        "$$"
      ],
      "metadata": {
        "id": "ZIT1t7cVpCNx"
      }
    },
    {
      "cell_type": "code",
      "source": [
        "# Solve\n",
        "m.optimize()"
      ],
      "metadata": {
        "id": "eotNg6FGvWMc",
        "colab": {
          "base_uri": "https://localhost:8080/"
        },
        "outputId": "0f8f3c3e-899f-4dfa-fccf-2f4ffc940b4d"
      },
      "execution_count": null,
      "outputs": [
        {
          "output_type": "stream",
          "name": "stdout",
          "text": [
            "Gurobi Optimizer version 11.0.3 build v11.0.3rc0 (linux64 - \"Ubuntu 22.04.3 LTS\")\n",
            "\n",
            "CPU model: Intel(R) Xeon(R) CPU @ 2.20GHz, instruction set [SSE2|AVX|AVX2]\n",
            "Thread count: 1 physical cores, 2 logical processors, using up to 2 threads\n",
            "\n",
            "Optimize a model with 35 rows, 300 columns and 600 nonzeros\n",
            "Model fingerprint: 0xe9ca46d9\n",
            "Variable types: 0 continuous, 300 integer (300 binary)\n",
            "Coefficient statistics:\n",
            "  Matrix range     [1e+00, 1e+00]\n",
            "  Objective range  [1e+00, 2e+01]\n",
            "  Bounds range     [1e+00, 1e+00]\n",
            "  RHS range        [1e+00, 1e+00]\n",
            "Found heuristic solution: objective 177.0000000\n",
            "Presolve time: 0.00s\n",
            "Presolved: 35 rows, 300 columns, 600 nonzeros\n",
            "Variable types: 0 continuous, 300 integer (300 binary)\n",
            "Found heuristic solution: objective 76.0000000\n",
            "\n",
            "Root relaxation: objective 2.900000e+01, 22 iterations, 0.00 seconds (0.00 work units)\n",
            "\n",
            "    Nodes    |    Current Node    |     Objective Bounds      |     Work\n",
            " Expl Unexpl |  Obj  Depth IntInf | Incumbent    BestBd   Gap | It/Node Time\n",
            "\n",
            "*    0     0               0      29.0000000   29.00000  0.00%     -    0s\n",
            "\n",
            "Explored 1 nodes (22 simplex iterations) in 0.04 seconds (0.00 work units)\n",
            "Thread count was 2 (of 2 available processors)\n",
            "\n",
            "Solution count 3: 29 76 177 \n",
            "\n",
            "Optimal solution found (tolerance 1.00e-04)\n",
            "Best objective 2.900000000000e+01, best bound 2.900000000000e+01, gap 0.0000%\n"
          ]
        }
      ]
    },
    {
      "cell_type": "markdown",
      "metadata": {
        "id": "7Vtfozdsziv-"
      },
      "source": [
        "## Print the optimal solution on sreen\n"
      ]
    },
    {
      "cell_type": "code",
      "execution_count": null,
      "metadata": {
        "id": "rzHdAArAIChv",
        "colab": {
          "base_uri": "https://localhost:8080/"
        },
        "outputId": "edf6f7f3-49b5-490d-f4eb-d48e2da4f326"
      },
      "outputs": [
        {
          "output_type": "stream",
          "name": "stdout",
          "text": [
            "Objective: 29.0\n",
            "\n",
            "Solution:\n",
            "\n",
            "Resource 1 undertakes Task 14\n",
            "Resource 2 undertakes Task 2\n",
            "Resource 3 undertakes Task 7\n",
            "Resource 4 undertakes Task 13\n",
            "Resource 5 undertakes Task 3\n",
            "Resource 6 undertakes Task 1\n",
            "Resource 8 undertakes Task 12\n",
            "Resource 9 undertakes Task 4\n",
            "Resource 10 undertakes Task 10\n",
            "Resource 11 undertakes Task 5\n",
            "Resource 12 undertakes Task 8\n",
            "Resource 14 undertakes Task 15\n",
            "Resource 15 undertakes Task 9\n",
            "Resource 16 undertakes Task 11\n",
            "Resource 19 undertakes Task 6\n"
          ]
        }
      ],
      "source": [
        "print(\"Objective:\",m.objVal)\n",
        "\n",
        "print(\"\\nSolution:\\n\")\n",
        "\n",
        "for i in I:\n",
        "    for j in J:\n",
        "        if x[i,j].x == 1:\n",
        "            print(i,\"undertakes\", j)\n"
      ]
    }
  ],
  "metadata": {
    "colab": {
      "provenance": [],
      "include_colab_link": true
    },
    "kernelspec": {
      "display_name": "Python 3",
      "language": "python",
      "name": "python3"
    },
    "language_info": {
      "codemirror_mode": {
        "name": "ipython",
        "version": 3
      },
      "file_extension": ".py",
      "mimetype": "text/x-python",
      "name": "python",
      "nbconvert_exporter": "python",
      "pygments_lexer": "ipython3",
      "version": "3.7.4"
    }
  },
  "nbformat": 4,
  "nbformat_minor": 0
}